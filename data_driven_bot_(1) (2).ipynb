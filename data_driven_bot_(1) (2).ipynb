{
  "nbformat": 4,
  "nbformat_minor": 0,
  "metadata": {
    "kernelspec": {
      "display_name": "Python 3",
      "language": "python",
      "name": "python3"
    },
    "language_info": {
      "codemirror_mode": {
        "name": "ipython",
        "version": 3
      },
      "file_extension": ".py",
      "mimetype": "text/x-python",
      "name": "python",
      "nbconvert_exporter": "python",
      "pygments_lexer": "ipython3",
      "version": "3.6.10"
    },
    "colab": {
      "name": "data_driven_bot_(1).ipynb",
      "provenance": []
    }
  },
  "cells": [
    {
      "cell_type": "markdown",
      "metadata": {
        "id": "2eB0bjouH5GT"
      },
      "source": [
        "# Data Driven Chatbot"
      ]
    },
    {
      "cell_type": "code",
      "metadata": {
        "id": "xImuydKNPpIk"
      },
      "source": [
        "import nltk\n",
        "import numpy as np\n",
        "import string\n",
        "import warnings\n",
        "warnings.filterwarnings(\"ignore\")"
      ],
      "execution_count": null,
      "outputs": []
    },
    {
      "cell_type": "code",
      "metadata": {
        "id": "6CdL9ulEPpIr"
      },
      "source": [
        "para = \"\"\"I am chatbot. How can i help you?. My father name was Yash and i don't have my mother as i was born from my father. \n",
        "You know what's the best thing about MAD? MAD is the startup that not only helps to learn, but also helps to grow and form the\n",
        "world's best community around. It's goal is certainly the mission #learn&earn. It's mission is to give everyone what they deserve :\n",
        "A better education and better life. No i am not kidding, it's truth. Yes i am AatmaNirbhar and i guess everyone should be Aatmanirbhar!\"\"\""
      ],
      "execution_count": null,
      "outputs": []
    },
    {
      "cell_type": "code",
      "metadata": {
        "id": "N7k-WooqPpI2"
      },
      "source": [
        "sent_tokens = nltk.sent_tokenize(para)\n",
        "word_tokens = nltk.word_tokenize(para)"
      ],
      "execution_count": null,
      "outputs": []
    },
    {
      "cell_type": "code",
      "metadata": {
        "id": "eEw-wFpbPpI6"
      },
      "source": [
        "lemmer = nltk.stem.WordNetLemmatizer()"
      ],
      "execution_count": null,
      "outputs": []
    },
    {
      "cell_type": "code",
      "metadata": {
        "id": "dKOARR8gPpI-"
      },
      "source": [
        "def LemTokens(tokens):\n",
        "    return [lemmer.lemmatize(token) for token in tokens]"
      ],
      "execution_count": null,
      "outputs": []
    },
    {
      "cell_type": "code",
      "metadata": {
        "id": "fl28TZ0fPpJD"
      },
      "source": [
        "remove_punct_dict = dict((ord(punct), None) for punct in string.punctuation)"
      ],
      "execution_count": null,
      "outputs": []
    },
    {
      "cell_type": "code",
      "metadata": {
        "id": "epLmEctdPpJI"
      },
      "source": [
        "def Normalize(text):\n",
        "    return LemTokens(nltk.word_tokenize(text.lower().translate(remove_punct_dict)))"
      ],
      "execution_count": null,
      "outputs": []
    },
    {
      "cell_type": "code",
      "metadata": {
        "id": "ez89h-r3PpJM"
      },
      "source": [
        "from sklearn.feature_extraction.text import TfidfVectorizer\n",
        "from sklearn.metrics.pairwise import cosine_similarity"
      ],
      "execution_count": null,
      "outputs": []
    },
    {
      "cell_type": "code",
      "metadata": {
        "id": "SDtLQ8bRPpJQ"
      },
      "source": [
        "def response(user_response):\n",
        "    robo_response=''\n",
        "    sent_tokens.append(user_response)\n",
        "    TfidfVec = (tokenizer=NormaliTfidfVectorizerze, stop_words='english')\n",
        "    tfidf = TfidfVec.fit_transform(sent_tokens)\n",
        "    vals = cosine_similarity(tfidf[-1], tfidf)   \n",
        "    idx=vals.argsort()[0][-2]\n",
        "    flat = vals.flatten() \n",
        "    flat.sort()\n",
        "    req_tfidf = flat[-2]\n",
        "    if(req_tfidf==0):\n",
        "        robo_response=robo_response+\"I am sorry! I don't understand you\"\n",
        "        return robo_response\n",
        "    else:\n",
        "        robo_response = robo_response+sent_tokens[idx]\n",
        "        return robo_response"
      ],
      "execution_count": null,
      "outputs": []
    },
    {
      "cell_type": "code",
      "metadata": {
        "id": "2-lh-OMAPpJW",
        "outputId": "673c3f82-de91-4397-ee9d-da54c5f50c68"
      },
      "source": [
        "flag=True\n",
        "print(\"MAD: My name is MADbot. I will answer everything about myself. If you want to exit, type Bye!\")\n",
        "while(flag==True):\n",
        "    user_response = input()\n",
        "    user_response=user_response.lower()\n",
        "    if(user_response!='bye'):\n",
        "        if(user_response=='thanks' or user_response=='thank you' ):\n",
        "            flag=False\n",
        "            print(\"MAD: You are welcome..\")\n",
        "        else:\n",
        "            print(\"MAD: \",end=\"\")\n",
        "            print(response(user_response))\n",
        "            sent_tokens.remove(user_response)        \n",
        "    else:\n",
        "        flag=False\n",
        "        print(\"MAD: Bye! Stay MAD Stay Creative.\")"
      ],
      "execution_count": null,
      "outputs": [
        {
          "output_type": "stream",
          "text": [
            "MAD: My name is MADbot. I will answer everything about myself. If you want to exit, type Bye!\n",
            "Are you Aatmanirbhar?\n",
            "MAD: yes i am aatmanirbhar and i guess everyone should be aatmanirbhar!\n",
            "Who is your father?\n",
            "MAD: my father name was Yash and i don't have my mother as i was born from my father.\n",
            "bye\n",
            "MAD: Bye! Stay MAD Stay Creative.\n"
          ],
          "name": "stdout"
        }
      ]
    },
    {
      "cell_type": "code",
      "metadata": {
        "id": "OdaTH01JPpJc"
      },
      "source": [
        ""
      ],
      "execution_count": null,
      "outputs": []
    }
  ]
}
